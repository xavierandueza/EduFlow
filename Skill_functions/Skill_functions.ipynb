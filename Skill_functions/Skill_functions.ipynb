{
 "cells": [
  {
   "cell_type": "code",
   "execution_count": 5,
   "id": "bc9187f2",
   "metadata": {},
   "outputs": [
    {
     "name": "stdout",
     "output_type": "stream",
     "text": [
      "2\n",
      "skill1_dif2\n"
     ]
    }
   ],
   "source": [
    "# This function will determine Difficulty rating\n",
    "def difficulty_adjuster(Mastery_metric):\n",
    "    if Mastery_metric <= (1/3 * 100):\n",
    "        Difficulty = 1\n",
    "    elif Mastery_metric <= (2/3  * 100) and Mastery_metric > (1/3  * 100):\n",
    "        Difficulty = 2\n",
    "    else:\n",
    "        Difficulty = 3\n",
    "\n",
    "    return Difficulty\n",
    "        \n",
    "# This function will determine the relevant skill objective given skill and difficulty.\n",
    "def skill_objective(skill_num, Difficulty):\n",
    "    skill_objectives_all = [\n",
    "        [\"skill1_dif1\", \"skill1_dif2\", \"skill1_dif3\"],\n",
    "        [\"skill2_dif1\", \"skill2_dif2\", \"skill2_dif3\"],\n",
    "        [\"skill3_dif1\", \"skill3_dif2\", \"skill3_dif3\"],\n",
    "        # need to update with specific examples\n",
    "    ]\n",
    "    \n",
    "    # Adjusting for zero-based indexing\n",
    "    return skill_objectives_all[skill_num - 1][Difficulty - 1]\n",
    "\n",
    "# Example usage\n",
    "print(difficulty_adjuster(0.5))  # Should return 2\n",
    "print(skill_objective(1, 2))     # Should return \"skill1_dif2\""
   ]
  },
  {
   "cell_type": "code",
   "execution_count": 7,
   "id": "d8d0f0b3",
   "metadata": {},
   "outputs": [
    {
     "name": "stdout",
     "output_type": "stream",
     "text": [
      "1\n",
      "3\n",
      "2\n"
     ]
    }
   ],
   "source": [
    "# need to add in functionality thats scores max score across attempts. \n",
    "def decision(q_score, counter):\n",
    "    \"\"\"\n",
    "    Determines the action to take based on the question score and attempt counter.\n",
    "\n",
    "    Parameters:\n",
    "    q_score (int): The score obtained for the question.\n",
    "    counter (int): The current attempt count for the question.\n",
    "\n",
    "    Returns:\n",
    "    int: An integer representing the decision.\n",
    "         1 - Answer is correct.\n",
    "         2 - Incorrect and is the 3rd attempt.\n",
    "         3 - Incorrect but not the 3rd attempt.\n",
    "    \"\"\"\n",
    "\n",
    "    # Decision based on question score and attempt count\n",
    "    if q_score >= 90:\n",
    "        action = 1  # Answer correct\n",
    "    else: \n",
    "        if counter < 3:\n",
    "            counter += 1\n",
    "            action = 3  # Incorrect and not 3rd Attempt\n",
    "        else:\n",
    "            action = 2  # Incorrect and 3rd Attempt\n",
    "\n",
    "    return action, counter\n",
    "\n",
    "# Test Cases\n",
    "print(decision(95, 1))  # Expected: 1 (Answer correct)\n",
    "print(decision(85, 2))  # Expected: 3 (Incorrect and not 3rd Attempt)\n",
    "print(decision(80, 3))  # Expected: 2 (Incorrect and 3rd Attempt)"
   ]
  },
  {
   "cell_type": "code",
   "execution_count": 11,
   "id": "dcb54d91",
   "metadata": {},
   "outputs": [],
   "source": [
    "def update_decay_rate(current_decay_rate):\n",
    "    \"\"\"\n",
    "    Update the decay rate by halving it.\n",
    "\n",
    "    Parameters:\n",
    "    - current_decay_rate: The current forgetting decay rate.\n",
    "\n",
    "    Returns:\n",
    "    - new_decay_rate: The updated decay rate.\n",
    "    \"\"\"\n",
    "    new_decay_rate = current_decay_rate / 2\n",
    "    return new_decay_rate\n",
    "\n",
    "import math\n",
    "def MM_addition(q_score, metric):\n",
    "    if q_score>=60: # increase values if q_score above 60\n",
    "        add = math.ceil((100-metric)*(q_score/100)/10) # algorithm to adjust addition depending on mastery score. Round up to deal with larger number. \n",
    "    else:\n",
    "        add = -metric/10 # IF they dont get the answer correct then they loose score, proportional to the metric value.\n",
    "    \n",
    "    return add\n",
    "    \n",
    "\n",
    "def update_after_q(mastery_metric, retention_metric, current_decay_rate, q_score_max, need_to_revise):\n",
    "    # Local copies of the metrics\n",
    "    updated_mastery_metric = mastery_metric\n",
    "    updated_retention_metric = retention_metric\n",
    "\n",
    "    if not need_to_revise:\n",
    "        # Update mastery and retention metrics\n",
    "        updated_mastery_metric += MM_addition(q_score_max, updated_mastery_metric)\n",
    "        updated_retention_metric += MM_addition(q_score_max, updated_mastery_metric)\n",
    "    else: \n",
    "        # Update retention metric\n",
    "        updated_retention_metric += MM_addition(q_score_max, updated_retention_metric)\n",
    "        \n",
    "        # Check if the retention metric meets or exceeds the mastery metric\n",
    "        if updated_retention_metric >= updated_mastery_metric:\n",
    "            need_to_revise = False\n",
    "            new_decay_rate = update_decay_rate(current_decay_rate)\n",
    "            updated_retention_metric = updated_mastery_metric\n",
    "        else:\n",
    "            need_to_revise = True\n",
    "            new_decay_rate = current_decay_rate  # No change in decay rate\n",
    "\n",
    "    return updated_mastery_metric, updated_retention_metric, need_to_revise, new_decay_rate"
   ]
  },
  {
   "cell_type": "code",
   "execution_count": 12,
   "id": "231aeff9",
   "metadata": {},
   "outputs": [],
   "source": [
    "def update_learning_status(mastery_metric, retention_metric, forgetting_decay_rate, percentage_forgotten_threshold, need_to_revise):\n",
    "    \"\"\"\n",
    "    Update the learning status based on the given metrics and decay rate.\n",
    "\n",
    "    Parameters:\n",
    "    - mastery_metric: A value between 0 and 100 indicating mastery level.\n",
    "    - retention_metric: A value between 0 and 100 indicating retention level.\n",
    "    - forgetting_decay_rate: A value between 0 and 1 indicating the rate of forgetting.\n",
    "    - percentage_forgotten_threshold: A value between 0 and 1 indicating the threshold for forgotten material.\n",
    "\n",
    "    Returns:\n",
    "    - need_to_revise: A boolean indicating whether revision is needed.\n",
    "    - updated_retention_metric: The updated value of the retention metric.\n",
    "    \"\"\"\n",
    "    # Apply decay to the retention metric\n",
    "    updated_retention_metric = retention_metric * (1 - forgetting_decay_rate)\n",
    "\n",
    "    # Determine if the retention metric is below the threshold\n",
    "    if updated_retention_metric < (mastery_metric * percentage_forgotten_threshold):\n",
    "        need_to_revise = True\n",
    "\n",
    "    return need_to_revise, updated_retention_metric\n"
   ]
  },
  {
   "cell_type": "code",
   "execution_count": 14,
   "id": "029589ac",
   "metadata": {},
   "outputs": [
    {
     "ename": "AssertionError",
     "evalue": "Test case 3 failed: expected (True, 52.0), got (False, 52.0)",
     "output_type": "error",
     "traceback": [
      "\u001b[1;31m---------------------------------------------------------------------------\u001b[0m",
      "\u001b[1;31mAssertionError\u001b[0m                            Traceback (most recent call last)",
      "Cell \u001b[1;32mIn[14], line 18\u001b[0m\n\u001b[0;32m     15\u001b[0m         \u001b[38;5;28;01massert\u001b[39;00m result \u001b[38;5;241m==\u001b[39m test[\u001b[38;5;124m\"\u001b[39m\u001b[38;5;124mexpected\u001b[39m\u001b[38;5;124m\"\u001b[39m], \u001b[38;5;124mf\u001b[39m\u001b[38;5;124m\"\u001b[39m\u001b[38;5;124mTest case \u001b[39m\u001b[38;5;132;01m{\u001b[39;00mi\u001b[38;5;241m+\u001b[39m\u001b[38;5;241m1\u001b[39m\u001b[38;5;132;01m}\u001b[39;00m\u001b[38;5;124m failed: expected \u001b[39m\u001b[38;5;132;01m{\u001b[39;00mtest[\u001b[38;5;124m'\u001b[39m\u001b[38;5;124mexpected\u001b[39m\u001b[38;5;124m'\u001b[39m]\u001b[38;5;132;01m}\u001b[39;00m\u001b[38;5;124m, got \u001b[39m\u001b[38;5;132;01m{\u001b[39;00mresult\u001b[38;5;132;01m}\u001b[39;00m\u001b[38;5;124m\"\u001b[39m\n\u001b[0;32m     17\u001b[0m \u001b[38;5;66;03m# Run the test function\u001b[39;00m\n\u001b[1;32m---> 18\u001b[0m test_update_learning_status()\n",
      "Cell \u001b[1;32mIn[14], line 15\u001b[0m, in \u001b[0;36mtest_update_learning_status\u001b[1;34m()\u001b[0m\n\u001b[0;32m     13\u001b[0m \u001b[38;5;28;01mfor\u001b[39;00m i, test \u001b[38;5;129;01min\u001b[39;00m \u001b[38;5;28menumerate\u001b[39m(test_cases):\n\u001b[0;32m     14\u001b[0m     result \u001b[38;5;241m=\u001b[39m update_learning_status(\u001b[38;5;241m*\u001b[39mtest[\u001b[38;5;124m\"\u001b[39m\u001b[38;5;124minput\u001b[39m\u001b[38;5;124m\"\u001b[39m])\n\u001b[1;32m---> 15\u001b[0m     \u001b[38;5;28;01massert\u001b[39;00m result \u001b[38;5;241m==\u001b[39m test[\u001b[38;5;124m\"\u001b[39m\u001b[38;5;124mexpected\u001b[39m\u001b[38;5;124m\"\u001b[39m], \u001b[38;5;124mf\u001b[39m\u001b[38;5;124m\"\u001b[39m\u001b[38;5;124mTest case \u001b[39m\u001b[38;5;132;01m{\u001b[39;00mi\u001b[38;5;241m+\u001b[39m\u001b[38;5;241m1\u001b[39m\u001b[38;5;132;01m}\u001b[39;00m\u001b[38;5;124m failed: expected \u001b[39m\u001b[38;5;132;01m{\u001b[39;00mtest[\u001b[38;5;124m'\u001b[39m\u001b[38;5;124mexpected\u001b[39m\u001b[38;5;124m'\u001b[39m]\u001b[38;5;132;01m}\u001b[39;00m\u001b[38;5;124m, got \u001b[39m\u001b[38;5;132;01m{\u001b[39;00mresult\u001b[38;5;132;01m}\u001b[39;00m\u001b[38;5;124m\"\u001b[39m\n",
      "\u001b[1;31mAssertionError\u001b[0m: Test case 3 failed: expected (True, 52.0), got (False, 52.0)"
     ]
    }
   ],
   "source": [
    "def test_update_learning_status():\n",
    "    test_cases = [\n",
    "        # Test case 1: No need for revision initially and still no need after update\n",
    "        {\"input\": (80, 70, 0.1, 0.5, False), \"expected\": (False, 63.0)},  # Expected tuple (need_to_revise, updated_retention_metric)\n",
    "        # Test case 2: Need for revision initially and still need after update\n",
    "        {\"input\": (80, 60, 0.2, 0.5, True), \"expected\": (True, 48.0)},\n",
    "        # Test case 3: No need for revision initially, but need after update due to decay\n",
    "        {\"input\": (80, 65, 0.2, 0.5, False), \"expected\": (True, 52.0)},\n",
    "        # Test case 4: Need for revision initially, no longer need after update\n",
    "        {\"input\": (80, 75, 0.1, 0.5, True), \"expected\": (True, 67.5)}\n",
    "    ]\n",
    "\n",
    "    for i, test in enumerate(test_cases):\n",
    "        result = update_learning_status(*test[\"input\"])\n",
    "        assert result == test[\"expected\"], f\"Test case {i+1} failed: expected {test['expected']}, got {result}\"\n",
    "\n",
    "# Run the test function\n",
    "test_update_learning_status()\n",
    "\n"
   ]
  },
  {
   "cell_type": "code",
   "execution_count": null,
   "id": "a964702e",
   "metadata": {},
   "outputs": [],
   "source": []
  }
 ],
 "metadata": {
  "kernelspec": {
   "display_name": "Python 3 (ipykernel)",
   "language": "python",
   "name": "python3"
  },
  "language_info": {
   "codemirror_mode": {
    "name": "ipython",
    "version": 3
   },
   "file_extension": ".py",
   "mimetype": "text/x-python",
   "name": "python",
   "nbconvert_exporter": "python",
   "pygments_lexer": "ipython3",
   "version": "3.11.4"
  }
 },
 "nbformat": 4,
 "nbformat_minor": 5
}
