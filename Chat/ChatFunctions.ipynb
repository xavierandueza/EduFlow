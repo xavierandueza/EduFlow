{
 "cells": [
  {
   "cell_type": "code",
   "execution_count": 13,
   "metadata": {},
   "outputs": [],
   "source": [
    "#Imports\n",
    "import json\n",
    "import os\n",
    "from openai import OpenAI\n",
    "import requests\n",
    "from tenacity import retry, wait_random_exponential, stop_after_attempt\n",
    "from termcolor import colored\n",
    "from EduFlowCallFunctions import *\n",
    "\n",
    "client = OpenAI(api_key=os.environ[\"EDUFLOW_OPENAI_API_KEY\"])\n"
   ]
  },
  {
   "cell_type": "code",
   "execution_count": 37,
   "metadata": {},
   "outputs": [],
   "source": [
    "#initialization models list\n",
    "GPT_models = [[\"gpt-3.5-turbo-1106\", \"gpt-4-1106-preview\"],\n",
    "            [\"gpt-3.5-turbo\", \"gpt-3.5-turbo-0613\", \"gpt-4-0613\", \"gpt-4\"]]\n",
    "\n",
    "model = \"gpt-3.5-turbo-1106\""
   ]
  },
  {
   "cell_type": "code",
   "execution_count": 18,
   "metadata": {},
   "outputs": [],
   "source": [
    "key_idea = \"\"\"On planet Earth, life exists in hostile and extreme environments, and the organisms that survive there are termed extremophiles.\"\"\"\n",
    "key_idea_description = \"\"\"Extremophiles are organisms that thrive in extreme conditions on Earth, such as high temperatures, acidity, alkalinity, or pressure. These environments include locations like deep-sea hydrothermal vents, acidic hot springs, or subglacial lakes in Antarctica. The adaptability of these organisms expands our understanding of life's limits and opens up possibilities for life in extreme conditions beyond Earth.\"\"\"\n",
    "theory = \"\"\"Extremophiles and Their Environments\n",
    "Definition: Extremophiles are primarily unicellular microbes, including bacteria and archaea, that live in harsh environments​​.\n",
    "Habitats: These environments include deep-sea hydrothermal vents with high pressure and temperatures (up to 122 °C), volcanic hot springs, deep underground in mines, and in bodies of water that are highly acidic, alkaline, extremely salty, or even radioactive​​.\n",
    "The Significance of Extremophiles\n",
    "Adaptation and Survival: Extremophiles have adapted to survive in conditions that are generally detrimental to most life forms. Their existence expands our understanding of the limits and versatility of life.\n",
    "Implications for Extraterrestrial Life: The study of extremophiles has significant implications for astrobiology. The discovery of diverse microbial communities in extreme environments like subglacial lakes under the Antarctic ice sheet suggests that life might exist in similar extreme conditions elsewhere in the universe, such as on ice-covered moons like Europa​​.\n",
    "Europa: A Candidate for Extraterrestrial Life\n",
    "Characteristics of Europa: Europa, a moon of Jupiter, is a primary candidate for extraterrestrial life exploration. It has an ice-covered surface, many kilometers thick, with a possible sub-surface ocean of salty water. The surface of Europa stretches and relaxes due to tidal movements caused by its elliptical orbit around Jupiter, generating heat that could keep a sub-surface ocean in liquid state​​.\n",
    "Potential Habitability: Europa is considered a promising location for life beyond Earth due to its thin ice shell, liquid ocean, and contact with a geologically active rocky core. The moon has water and the right chemical elements, along with a potentially stable environment​​.\n",
    "Broader Understanding\n",
    "Cellular Requirements for Life: For life to exist, certain conditions are necessary, including the availability of an energy source, liquid water for biochemical reactions, and essential chemical building blocks like carbon, oxygen, nitrogen, and hydrogen. Life can thrive in stable environmental conditions within a specific range of pressure, temperature, light intensity, pH, and salinity​​.\n",
    "Challenging Traditional Concepts: Extremophiles challenge the traditional concept of habitable environments, indicating that life can exist in conditions previously thought to be uninhabitable. This expands our understanding of possible habitats for life, both on Earth and potentially in extraterrestrial settings.\n",
    "This comprehensive overview illustrates the remarkable adaptability of life and opens up new possibilities for understanding life's potential existence in extreme environments, both on Earth and beyond.\"\"\"\n",
    "student_year_level = \"Year 11\"\n",
    "subject = \"Biology\"\n",
    "question_difficulty = \"moderate\"\n",
    "question_examples_easy = [\"What is an extremophile? An extremophile is an organism that thrives in extreme environmental conditions that are typically detrimental to most life forms.\", \"Give one example of an extreme environment on Earth. One example is deep-sea hydrothermal vents.\", \"What is unique about Europa, one of Jupiter's moons? Europa has an ice-covered surface and is thought to have a sub-surface ocean of salty water.\"]\n",
    "question_examples_moderate = [\"How do extremophiles survive in high temperatures? Extremophiles in high temperatures have specialized proteins and enzymes that remain stable and functional at elevated temperatures.\", \"Why is the study of extremophiles important? Studying extremophiles helps understand the adaptability and limits of life, and it may provide insights into the possibility of life on other planets or moons.\", \"Why is Europa considered a likely place to find life beyond Earth? Europa is considered likely because of its ice shell, liquid ocean, and geologically active core, which provide conditions potentially suitable for life.\"]\n",
    "question_examples_hard = [\"Explain how extremophiles challenge the traditional concept of habitable environments. Extremophiles challenge the traditional concept by surviving in environments previously thought to be uninhabitable, expanding our understanding of where life can exist\", \"Discuss the potential implications of finding life in subglacial lakes in Antarctica for the search for extraterrestrial life. The discovery in subglacial lakes suggests that similar extreme, ice-covered environments in the solar system, such as on Europa, could also harbor life.\", \"How does the study of extremophiles contribute to our understanding of the potential for life on planets and moons outside the 'Goldilocks Zone'? The study of extremophiles indicates that life can exist in conditions not reliant on a star's warmth, suggesting that planets and moons outside the 'Goldilocks Zone' could also support life.\"]\n",
    "\n",
    "student_interests = [\"gaming\", \"politics\", \"philosophy\"]\n",
    "student_career_goals = [\"lawyer\", \"doctor\", \"engineer\"]"
   ]
  },
  {
   "cell_type": "markdown",
   "metadata": {},
   "source": [
    "# Functions"
   ]
  },
  {
   "cell_type": "code",
   "execution_count": 38,
   "metadata": {},
   "outputs": [],
   "source": [
    "def generate_question(key_idea,\n",
    "                      key_idea_description,\n",
    "                      theory,\n",
    "                      student_year_level,\n",
    "                      subject,\n",
    "                      question_difficulty,\n",
    "                      question_examples = [],\n",
    "                      other_system_instructions = \"\",\n",
    "                      student_interests = [],\n",
    "                      student_career_goals = []):\n",
    "    \"\"\"\n",
    "    Generates a question for a student based on various inputs.\n",
    "\n",
    "    Parameters:\n",
    "    key_idea (str): The concept(s) on which the generated question should be about.\n",
    "    key_idea_description (str): The further description of the key idea.\n",
    "    theory (str): Additional theory related to the key idea.\n",
    "    student_year_level (str): The year level of the student.\n",
    "    subject (str): The subject of the question is based on.\n",
    "    question_difficulty (str): The difficulty level of the question.\n",
    "    question_examples (str): Examples questions that are about the same key idea and at a similar difficulty.\n",
    "    other_system_instructions (str, optional): Other instructions for the system. Defaults to \"\".\n",
    "    student_interests (list, optional): A list of the student's interests. Defaults to [].\n",
    "    student_career_goals (list, optional): A list of the student's career goals. Defaults to [].\n",
    "    model (str, optional): The model used to generate the question. Defaults to \"gpt-3.5-turbo-1106\".\n",
    "\n",
    "    Returns:\n",
    "    str: generated question\"\"\"\n",
    "\n",
    "    system_prompt = f\"\"\"You are an advanced AI agent specialized in generating questions for high school students to answer. Your task is to formulate a question that aligns with the following parameters:\n",
    "\n",
    "        - The Key Idea: {key_idea}\n",
    "        - Here is the extended description of the key idea: {key_idea_description}\n",
    "        - Here is the theory that is taught in the class to this student, from which the question should be based on: {theory}\n",
    "        - The subject which question falls under: {subject}\n",
    "        - The year level of the atudent answering the question. Try not to make the question ask content which a what a student at this level would not be able to answer: {student_year_level}\n",
    "        - Additional Instructions: {other_system_instructions}\n",
    "\n",
    "    Consider the student's interests and career aspirations in crafting the question, making it engaging and relevant to their future goals. If the interests or career goals do not align directly with the key idea, prioritize the academic integrity of the question.\n",
    "\n",
    "        - Student Interests: {student_interests}\n",
    "        - Student Career Goals: {student_career_goals}\n",
    "\n",
    "    Your response should directly pose the question without prefacing it as a 'question'. Ensure that the question is challenging yet appropriate for the student's year level and subject matter, fostering critical thinking and application of the key idea and related theory.\n",
    "\n",
    "    You will be prompted to generate a question based on a specific difficulty and will be provided example questions of a similar difficulty. Use these and the guidelines provided above to generate the question.\"\"\"\n",
    "\n",
    "    initial_user_prompt = f\"\"\"Create a question for the student to answer. Your question should be {question_difficulty}. Here is a list of example questions at a similar difficulty with included answers, which you can losely base your question off: {question_examples}\"\"\"\n",
    "\n",
    "    generated_question = client.chat.completions.create(\n",
    "        model = \"gpt-3.5-turbo-1106\",\n",
    "        messages=[{\"role\": \"system\", \"content\": system_prompt},\n",
    "                {\"role\": \"user\", \"content\": initial_user_prompt}],\n",
    "        temperature=0.7)\n",
    "\n",
    "\n",
    "    return generated_question"
   ]
  },
  {
   "cell_type": "code",
   "execution_count": 44,
   "metadata": {},
   "outputs": [],
   "source": [
    "generated_question = generate_question(key_idea,\n",
    "                            key_idea_description,\n",
    "                            theory,\n",
    "                            student_year_level,\n",
    "                            subject,\n",
    "                            question_difficulty,\n",
    "                            question_examples = question_examples_moderate,\n",
    "                            other_system_instructions = \"\",\n",
    "                            student_interests = student_interests,\n",
    "                            student_career_goals = student_career_goals)\n",
    "\n",
    "\n"
   ]
  },
  {
   "cell_type": "code",
   "execution_count": 45,
   "metadata": {},
   "outputs": [
    {
     "data": {
      "text/plain": [
       "'How do extremophiles challenge traditional concepts of habitable environments, and what implications does this have for the search for extraterrestrial life, especially in the context of Europa?'"
      ]
     },
     "execution_count": 45,
     "metadata": {},
     "output_type": "execute_result"
    }
   ],
   "source": [
    "generated_question.choices[0].message.content"
   ]
  },
  {
   "cell_type": "code",
   "execution_count": 46,
   "metadata": {},
   "outputs": [],
   "source": [
    "def answer_question(question,\n",
    "                    key_idea,\n",
    "                    key_idea_description,\n",
    "                    student_year_level,\n",
    "                    theory,\n",
    "                    other_system_instructions = \"\",\n",
    "                    model = \"gpt-3.5-turbo-1106\"):\n",
    "    \"\"\"\n",
    "    Generates an answer for a given question one would see in a highschool textbook or exam.\n",
    "\n",
    "    Parameters:\n",
    "    question (str): The question to be answered.\n",
    "    key_idea (str): The main concept the question is assessing.\n",
    "    key_idea_description (str): The description of the key idea.\n",
    "    answer_year_level (str): The level of the student answering the question.\n",
    "    subject (str): The subject of the question the question is based on.\n",
    "    theory (str): The theory related to the question.\n",
    "    other_system_instructions (str, optional): Other instructions for the system. Defaults to \"\".\n",
    "    model (str, optional): The model used to generate the answer. Defaults to \"gpt-4\".\n",
    "\n",
    "    Returns:\n",
    "    str: The generated answer.\n",
    "    \"\"\"\n",
    "\n",
    "    # Put together the things in a decent system instruction\n",
    "    system_prompt = f\"\"\"As an AI designed to assist in educational contexts, your task is to provide an accurate and comprehensive answer to a high school level question. You should base your answer on the following detailed information:\n",
    "\n",
    "    - Key Idea: {key_idea}. This is the primary concept that the question is exploring.\n",
    "    - Detailed Description of Key Idea: {key_idea_description}. Use this information to ensure that your answer fully encompasses the nuances of the key idea.\n",
    "    - Relevant Theory: {theory}. Your answer should incorporate and demonstrate an understanding of this theory, as it relates to the key idea.\n",
    "    - Student Year Level: {student_year_level}. Tailor the sophistication and depth of your answer to be appropriate for a student at this academic level.\n",
    "    - Additional Instructions: {other_system_instructions}. Consider these instructions to guide the style, format, or additional content of your answer.\n",
    "\n",
    "    Your response should directly address the question, formulated in a clear and concise manner, suitable for the specified student year level. Avoid prefacing your response with 'Answer:' or similar qualifiers. Instead, provide a straightforward explanation or solution that demonstrates a comprehensive understanding of the topic.\"\"\"\n",
    "\n",
    "\n",
    "    initial_user_prompt = f\"Please provide an answer to this question at an appropriate depth, considering the student's academic level: {question}\"\n",
    "\n",
    "    generated_answer = client.chat.completions.create(\n",
    "        model=model,\n",
    "        messages=[\n",
    "            {\"role\": \"system\", \"content\": system_prompt},\n",
    "            {\"role\": \"user\", \"content\": initial_user_prompt},\n",
    "        ],\n",
    "        temperature = 0.1\n",
    "    )\n",
    "\n",
    "    return generated_answer"
   ]
  },
  {
   "cell_type": "code",
   "execution_count": 48,
   "metadata": {},
   "outputs": [],
   "source": [
    "question = generated_question.choices[0].message.content\n",
    "\n",
    "generated_answer = answer_question(question,\n",
    "                    key_idea,\n",
    "                    key_idea_description,\n",
    "                    student_year_level,\n",
    "                    theory,\n",
    "                    other_system_instructions = \"\",\n",
    "                    model = \"gpt-3.5-turbo-1106\")"
   ]
  },
  {
   "cell_type": "code",
   "execution_count": 49,
   "metadata": {},
   "outputs": [
    {
     "data": {
      "text/plain": [
       "\"Extremophiles challenge traditional concepts of habitable environments by thriving in conditions that were previously considered uninhabitable for life. These organisms, primarily unicellular microbes like bacteria and archaea, have adapted to survive in extreme environments on Earth, such as high temperatures, acidity, alkalinity, or pressure. This challenges the traditional notion of habitable environments, which typically focused on moderate temperature, pH, and pressure ranges.\\n\\nThe implications of extremophiles for the search for extraterrestrial life are significant, especially in the context of Europa, a moon of Jupiter. Europa is considered a promising location for extraterrestrial life exploration due to its potential habitability. The moon has an ice-covered surface with a possible sub-surface ocean of salty water. The tidal movements caused by its elliptical orbit around Jupiter generate heat, potentially keeping the sub-surface ocean in a liquid state. This environment, similar to some extreme environments on Earth, raises the possibility of hosting extremophiles or other forms of life.\\n\\nThe adaptability of extremophiles expands our understanding of life's limits and versatility, challenging the traditional concept of habitable environments. This expansion of our understanding opens up new possibilities for the search for extraterrestrial life, as it suggests that life might exist in conditions previously thought to be uninhabitable. The discovery of diverse microbial communities in extreme environments on Earth, such as subglacial lakes under the Antarctic ice sheet, indicates that life could exist in similar extreme conditions elsewhere in the universe, such as on Europa.\\n\\nIn summary, extremophiles challenge traditional concepts of habitable environments by thriving in extreme conditions, and this has significant implications for the search for extraterrestrial life, particularly in the context of Europa. The adaptability of extremophiles expands our understanding of life's potential existence in extreme environments, both on Earth and beyond, and opens up new possibilities for astrobiology and the exploration of potentially habitable environments beyond our planet.\""
      ]
     },
     "execution_count": 49,
     "metadata": {},
     "output_type": "execute_result"
    }
   ],
   "source": [
    "generated_answer.choices[0].message.content"
   ]
  },
  {
   "cell_type": "code",
   "execution_count": null,
   "metadata": {},
   "outputs": [],
   "source": [
    "system_prompt = f\"\"\"You are an AI developed for educational assessment, tasked with evaluating a student's answer to a question and providing feedback. Your assessment should be based on the following criteria:\n",
    "\n",
    "    - Key Idea: {key_idea}. This is the central concept the question and answer revolve around.\n",
    "    - Relevant Theory: {theory}. Evaluate how well the answer reflects an understanding of this theory in relation to the key idea.\n",
    "    - Detailed Description of Key Idea: {key_idea_description}. Use this to gauge the depth and accuracy of the student's answer.\n",
    "\n",
    "Format your assessment as a JSON object, which includes a numerical score out of 100, and constructive feedback tailored for the student. Your feedback should guide the student on areas of strength and suggestions for improvement.\n",
    "\n",
    "    JSON Format:\n",
    "    {{\n",
    "        \"score\": \"your_score_here\",\n",
    "        \"feedback\": \"your_feedback_here\"\n",
    "    }}\n",
    "\n",
    "Avoid explicitly stating \"Feedback:\". Instead, provide your evaluation and guidance directly as if speaking to the student. Ensure your feedback is clear, supportive, and offers specific insights on the answer.\n",
    "\n",
    "    Additional System Instructions: {other_system_instructions}\"\"\"\n"
   ]
  }
 ],
 "metadata": {
  "kernelspec": {
   "display_name": "base",
   "language": "python",
   "name": "python3"
  },
  "language_info": {
   "codemirror_mode": {
    "name": "ipython",
    "version": 3
   },
   "file_extension": ".py",
   "mimetype": "text/x-python",
   "name": "python",
   "nbconvert_exporter": "python",
   "pygments_lexer": "ipython3",
   "version": "3.9.7"
  }
 },
 "nbformat": 4,
 "nbformat_minor": 2
}
