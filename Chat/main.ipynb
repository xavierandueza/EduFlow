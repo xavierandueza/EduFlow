{
 "cells": [
  {
   "cell_type": "code",
   "execution_count": 1,
   "metadata": {},
   "outputs": [
    {
     "data": {
      "text/plain": [
       "'{ayyaba}'"
      ]
     },
     "execution_count": 1,
     "metadata": {},
     "output_type": "execute_result"
    }
   ],
   "source": [
    "#Imports\n",
    "# import json\n",
    "# import os\n",
    "\n",
    "# import requests\n",
    "# from tenacity import retry, wait_random_exponential, stop_after_attempt\n",
    "# from termcolor import colored\n",
    "\n",
    "import streamlit as st\n",
    "import inspect\n",
    "from langchain.chat_models import ChatOpenAI\n",
    "from langchain.chains import ConversationChain, ConversationalRetrievalChain, LLMChain\n",
    "from langchain.memory import ConversationBufferMemory, ConversationSummaryMemory, ConversationKGMemory\n",
    "from langchain.schema import StrOutputParser, SystemMessage\n",
    "from langchain.prompts.chat import (\n",
    "    ChatPromptTemplate,\n",
    "    SystemMessagePromptTemplate,\n",
    "    AIMessagePromptTemplate,\n",
    "    HumanMessagePromptTemplate,\n",
    "    MessagesPlaceholder\n",
    ")\n",
    "\n",
    "from operator import itemgetter\n",
    "\n",
    "from ftstringprompts import *\n",
    "\n",
    "\n",
    "from dotenv import load_dotenv\n",
    "# from EduFlowSinglePrompts import *\n",
    "\n",
    "\n",
    "load_dotenv(\"../.venv/.env\")\n"
   ]
  },
  {
   "cell_type": "markdown",
   "metadata": {},
   "source": [
    "#### inputs"
   ]
  },
  {
   "cell_type": "code",
   "execution_count": 2,
   "metadata": {},
   "outputs": [],
   "source": [
    "key_idea = \"\"\"On planet Earth, life exists in hostile and extreme environments, and the organisms that survive there are termed extremophiles.\"\"\"\n",
    "key_idea_description = \"\"\"Extremophiles are organisms that thrive in extreme conditions on Earth, such as high temperatures, acidity, alkalinity, or pressure. These environments include locations like deep-sea hydrothermal vents, acidic hot springs, or subglacial lakes in Antarctica. The adaptability of these organisms expands our understanding of life's limits and opens up possibilities for life in extreme conditions beyond Earth.\"\"\"\n",
    "theory = \"\"\"Extremophiles and Their Environments\n",
    "Definition: Extremophiles are primarily unicellular microbes, including bacteria and archaea, that live in harsh environments​​.\n",
    "Habitats: These environments include deep-sea hydrothermal vents with high pressure and temperatures (up to 122 °C), volcanic hot springs, deep underground in mines, and in bodies of water that are highly acidic, alkaline, extremely salty, or even radioactive​​.\n",
    "The Significance of Extremophiles\n",
    "Adaptation and Survival: Extremophiles have adapted to survive in conditions that are generally detrimental to most life forms. Their existence expands our understanding of the limits and versatility of life.\n",
    "Implications for Extraterrestrial Life: The study of extremophiles has significant implications for astrobiology. The discovery of diverse microbial communities in extreme environments like subglacial lakes under the Antarctic ice sheet suggests that life might exist in similar extreme conditions elsewhere in the universe, such as on ice-covered moons like Europa​​.\n",
    "Europa: A Candidate for Extraterrestrial Life\n",
    "Characteristics of Europa: Europa, a moon of Jupiter, is a primary candidate for extraterrestrial life exploration. It has an ice-covered surface, many kilometers thick, with a possible sub-surface ocean of salty water. The surface of Europa stretches and relaxes due to tidal movements caused by its elliptical orbit around Jupiter, generating heat that could keep a sub-surface ocean in liquid state​​.\n",
    "Potential Habitability: Europa is considered a promising location for life beyond Earth due to its thin ice shell, liquid ocean, and contact with a geologically active rocky core. The moon has water and the right chemical elements, along with a potentially stable environment​​.\n",
    "Broader Understanding\n",
    "Cellular Requirements for Life: For life to exist, certain conditions are necessary, including the availability of an energy source, liquid water for biochemical reactions, and essential chemical building blocks like carbon, oxygen, nitrogen, and hydrogen. Life can thrive in stable environmental conditions within a specific range of pressure, temperature, light intensity, pH, and salinity​​.\n",
    "Challenging Traditional Concepts: Extremophiles challenge the traditional concept of habitable environments, indicating that life can exist in conditions previously thought to be uninhabitable. This expands our understanding of possible habitats for life, both on Earth and potentially in extraterrestrial settings.\n",
    "This comprehensive overview illustrates the remarkable adaptability of life and opens up new possibilities for understanding life's potential existence in extreme environments, both on Earth and beyond.\"\"\"\n",
    "student_year_level = \"Year 11\"\n",
    "subject = \"Biology\"\n",
    "question_difficulty = \"moderate\"\n",
    "question_examples_easy = [\"What is an extremophile? An extremophile is an organism that thrives in extreme environmental conditions that are typically detrimental to most life forms.\", \"Give one example of an extreme environment on Earth. One example is deep-sea hydrothermal vents.\", \"What is unique about Europa, one of Jupiter's moons? Europa has an ice-covered surface and is thought to have a sub-surface ocean of salty water.\"]\n",
    "question_examples_moderate = [\"How do extremophiles survive in high temperatures? Extremophiles in high temperatures have specialized proteins and enzymes that remain stable and functional at elevated temperatures.\", \"Why is the study of extremophiles important? Studying extremophiles helps understand the adaptability and limits of life, and it may provide insights into the possibility of life on other planets or moons.\", \"Why is Europa considered a likely place to find life beyond Earth? Europa is considered likely because of its ice shell, liquid ocean, and geologically active core, which provide conditions potentially suitable for life.\"]\n",
    "question_examples_hard = [\"Explain how extremophiles challenge the traditional concept of habitable environments. Extremophiles challenge the traditional concept by surviving in environments previously thought to be uninhabitable, expanding our understanding of where life can exist\", \"Discuss the potential implications of finding life in subglacial lakes in Antarctica for the search for extraterrestrial life. The discovery in subglacial lakes suggests that similar extreme, ice-covered environments in the solar system, such as on Europa, could also harbor life.\", \"How does the study of extremophiles contribute to our understanding of the potential for life on planets and moons outside the 'Goldilocks Zone'? The study of extremophiles indicates that life can exist in conditions not reliant on a star's warmth, suggesting that planets and moons outside the 'Goldilocks Zone' could also support life.\"]\n",
    "subject = 'biology'\n",
    "question_examples = question_examples_moderate\n",
    "other_system_instructions = \"\"\n",
    "student_interests = [\"gaming\", \"politics\", \"philosophy\"]\n",
    "student_career_goals = [\"lawyer\", \"doctor\", \"engineer\"]"
   ]
  },
  {
   "cell_type": "code",
   "execution_count": 3,
   "metadata": {},
   "outputs": [],
   "source": [
    "def create_education_dict(key_idea, key_idea_description, theory, student_year_level, subject, question_difficulty, question_examples_moderate,  student_interests, student_career_goals, other_system_instructions):\n",
    "    education_dict = {\n",
    "        \"key_idea\": key_idea,\n",
    "        \"key_idea_description\": key_idea_description,\n",
    "        \"theory\": theory,\n",
    "        \"student_year_level\": student_year_level,\n",
    "        \"subject\": subject,\n",
    "        \"question_difficulty\": question_difficulty,\n",
    "        \"question_examples\": question_examples_moderate,\n",
    "        \"student_career_goals\": student_career_goals,\n",
    "        \"student_interests\": student_interests,\n",
    "        \"other_system_instructions\": other_system_instructions\n",
    "        }\n",
    "    return education_dict\n",
    "\n",
    "data = create_education_dict(key_idea, key_idea_description, theory, student_year_level, subject, question_difficulty, question_examples_moderate,  student_interests, student_career_goals, other_system_instructions)"
   ]
  },
  {
   "cell_type": "markdown",
   "metadata": {},
   "source": [
    "#### Test code"
   ]
  },
  {
   "cell_type": "code",
   "execution_count": 4,
   "metadata": {},
   "outputs": [
    {
     "data": {
      "text/plain": [
       "AIMessage(content='--BEGIN RESPONSE--\\n\\nExplain the significance of extremophiles in astrobiology, and how their existence expands our understanding of the limits and adaptability of life. Discuss their potential implications for the possibility of life on other planets or moons, such as Europa, in the context of habitable environments.\\n\\n--END RESPONSE--')"
      ]
     },
     "execution_count": 4,
     "metadata": {},
     "output_type": "execute_result"
    }
   ],
   "source": [
    "model = \"gpt-3.5-turbo-1106\"\n",
    "\n",
    "llm = ChatOpenAI(temperature=0.9,model=model)\n",
    "prompt, input_variables, human = generate_question()\n",
    "sys_message = SystemMessagePromptTemplate.from_template(prompt)\n",
    "human_message = HumanMessagePromptTemplate.from_template(human)\n",
    "# prompt = generate_question_template.format_prompt(**data)\n",
    "\n",
    "chat_template = ChatPromptTemplate.from_messages([sys_message, human_message])\n",
    "\n",
    "llm(chat_template.format_messages(**data))\n"
   ]
  },
  {
   "cell_type": "code",
   "execution_count": null,
   "metadata": {},
   "outputs": [],
   "source": []
  },
  {
   "cell_type": "code",
   "execution_count": 5,
   "metadata": {},
   "outputs": [
    {
     "ename": "NameError",
     "evalue": "name 'temp' is not defined",
     "output_type": "error",
     "traceback": [
      "\u001b[0;31m---------------------------------------------------------------------------\u001b[0m",
      "\u001b[0;31mNameError\u001b[0m                                 Traceback (most recent call last)",
      "\u001b[1;32m/home/andrew/Desktop/Everdawn/Eduflow AI/EduFlow/Chat/main.ipynb Cell 7\u001b[0m line \u001b[0;36m2\n\u001b[1;32m      <a href='vscode-notebook-cell:/home/andrew/Desktop/Everdawn/Eduflow%20AI/EduFlow/Chat/main.ipynb#Y112sZmlsZQ%3D%3D?line=0'>1</a>\u001b[0m \u001b[39m#Sequence 1\u001b[39;00m\n\u001b[0;32m----> <a href='vscode-notebook-cell:/home/andrew/Desktop/Everdawn/Eduflow%20AI/EduFlow/Chat/main.ipynb#Y112sZmlsZQ%3D%3D?line=1'>2</a>\u001b[0m model \u001b[39m=\u001b[39m ChatOpenAI(temperature \u001b[39m=\u001b[39m temp, model_name\u001b[39m=\u001b[39m model)\n\u001b[1;32m      <a href='vscode-notebook-cell:/home/andrew/Desktop/Everdawn/Eduflow%20AI/EduFlow/Chat/main.ipynb#Y112sZmlsZQ%3D%3D?line=3'>4</a>\u001b[0m \u001b[39m#prompt templates\u001b[39;00m\n\u001b[1;32m      <a href='vscode-notebook-cell:/home/andrew/Desktop/Everdawn/Eduflow%20AI/EduFlow/Chat/main.ipynb#Y112sZmlsZQ%3D%3D?line=4'>5</a>\u001b[0m generate_question_prompt_messages \u001b[39m=\u001b[39m generate_question()\n",
      "\u001b[0;31mNameError\u001b[0m: name 'temp' is not defined"
     ]
    }
   ],
   "source": [
    "#Sequence 1\n",
    "model = ChatOpenAI(temperature = temp, model_name= model)\n",
    "\n",
    "#prompt templates\n",
    "generate_question_prompt_messages = generate_question()\n",
    "answer_prompt_messages = answer_question()\n",
    "hallucination_check_prompt_messages = check_generated_answer_hallucination()\n",
    "\n",
    "#message objects\n",
    "final_generate_prompt_question = ChatPromptTemplate.from_messages(generate_question_prompt_messages)\n",
    "final_answer_prompt = ChatPromptTemplate.from_messages(answer_prompt_messages)\n",
    "hallucination_check_prompt_messages = ChatPromptTemplate.from_messages(hallucination_check_prompt_messages)\n",
    "\n",
    "question_stage = final_generate_prompt_question | model\n"
   ]
  }
 ],
 "metadata": {
  "kernelspec": {
   "display_name": "base",
   "language": "python",
   "name": "python3"
  },
  "language_info": {
   "codemirror_mode": {
    "name": "ipython",
    "version": 3
   },
   "file_extension": ".py",
   "mimetype": "text/x-python",
   "name": "python",
   "nbconvert_exporter": "python",
   "pygments_lexer": "ipython3",
   "version": "3.10.12"
  }
 },
 "nbformat": 4,
 "nbformat_minor": 2
}
