{
 "cells": [
  {
   "cell_type": "code",
   "execution_count": 28,
   "metadata": {},
   "outputs": [
    {
     "data": {
      "text/plain": [
       "True"
      ]
     },
     "execution_count": 28,
     "metadata": {},
     "output_type": "execute_result"
    }
   ],
   "source": [
    "#Imports\n",
    "# import json\n",
    "# import os\n",
    "\n",
    "# import requests\n",
    "# from tenacity import retry, wait_random_exponential, stop_after_attempt\n",
    "# from termcolor import colored\n",
    "\n",
    "import streamlit as st\n",
    "from langchain.llms import OpenAI as oppa\n",
    "from langchain.prompts import PromptTemplate\n",
    "from langchain.chains import LLMChain\n",
    "from dotenv import load_dotenv\n",
    "from openai import OpenAI\n",
    "from GPTCallFunctions import *\n",
    "from EduFLowFunctions import *\n",
    "\n",
    "load_dotenv()\n",
    "\n",
    "\n",
    "# client = OpenAI(api_key=os.environ[\"EDUFLOW_OPENAI_API_KEY\"])\n"
   ]
  },
  {
   "cell_type": "code",
   "execution_count": 27,
   "metadata": {},
   "outputs": [
    {
     "name": "stdout",
     "output_type": "stream",
     "text": [
      "{'animal_type': 'cow', 'text': '\\n\\n1. Milky\\n2. Bessie\\n3. Bossy\\n4. Daisy\\n5. Moochie'}\n"
     ]
    }
   ],
   "source": [
    "def generate_pet_name(animal_type,pet_color):\n",
    "    llm = oppa(temperature=0.5)\n",
    "\n",
    "    prompt_template_name =  PromptTemplate(\n",
    "    input_variables = ['animal_type', 'pet_color'],\n",
    "    template = 'I have a pet {animal_type} and I want a cool name for it. Suggest me five cool names for my pets and is {pet_color} in colour.'\n",
    "    )\n",
    "\n",
    "    name_chain = LLMChain(llm = llm, prompt = prompt_template_name)\n",
    "\n",
    "    response = name_chain({\"animal_type\":animal_type})\n",
    "\n",
    "    return response\n",
    "\n",
    "\n",
    "\n",
    "print(generate_pet_name('cow'))"
   ]
  },
  {
   "cell_type": "code",
   "execution_count": null,
   "metadata": {},
   "outputs": [],
   "source": []
  },
  {
   "cell_type": "code",
   "execution_count": 37,
   "metadata": {},
   "outputs": [],
   "source": [
    "#initialization models list\n",
    "GPT_models = [[\"gpt-3.5-turbo-1106\", \"gpt-4-1106-preview\"],\n",
    "            [\"gpt-3.5-turbo\", \"gpt-3.5-turbo-0613\", \"gpt-4-0613\", \"gpt-4\"]]\n",
    "\n",
    "model = \"gpt-3.5-turbo-1106\""
   ]
  },
  {
   "cell_type": "code",
   "execution_count": 18,
   "metadata": {},
   "outputs": [],
   "source": [
    "key_idea = \"\"\"On planet Earth, life exists in hostile and extreme environments, and the organisms that survive there are termed extremophiles.\"\"\"\n",
    "key_idea_description = \"\"\"Extremophiles are organisms that thrive in extreme conditions on Earth, such as high temperatures, acidity, alkalinity, or pressure. These environments include locations like deep-sea hydrothermal vents, acidic hot springs, or subglacial lakes in Antarctica. The adaptability of these organisms expands our understanding of life's limits and opens up possibilities for life in extreme conditions beyond Earth.\"\"\"\n",
    "theory = \"\"\"Extremophiles and Their Environments\n",
    "Definition: Extremophiles are primarily unicellular microbes, including bacteria and archaea, that live in harsh environments​​.\n",
    "Habitats: These environments include deep-sea hydrothermal vents with high pressure and temperatures (up to 122 °C), volcanic hot springs, deep underground in mines, and in bodies of water that are highly acidic, alkaline, extremely salty, or even radioactive​​.\n",
    "The Significance of Extremophiles\n",
    "Adaptation and Survival: Extremophiles have adapted to survive in conditions that are generally detrimental to most life forms. Their existence expands our understanding of the limits and versatility of life.\n",
    "Implications for Extraterrestrial Life: The study of extremophiles has significant implications for astrobiology. The discovery of diverse microbial communities in extreme environments like subglacial lakes under the Antarctic ice sheet suggests that life might exist in similar extreme conditions elsewhere in the universe, such as on ice-covered moons like Europa​​.\n",
    "Europa: A Candidate for Extraterrestrial Life\n",
    "Characteristics of Europa: Europa, a moon of Jupiter, is a primary candidate for extraterrestrial life exploration. It has an ice-covered surface, many kilometers thick, with a possible sub-surface ocean of salty water. The surface of Europa stretches and relaxes due to tidal movements caused by its elliptical orbit around Jupiter, generating heat that could keep a sub-surface ocean in liquid state​​.\n",
    "Potential Habitability: Europa is considered a promising location for life beyond Earth due to its thin ice shell, liquid ocean, and contact with a geologically active rocky core. The moon has water and the right chemical elements, along with a potentially stable environment​​.\n",
    "Broader Understanding\n",
    "Cellular Requirements for Life: For life to exist, certain conditions are necessary, including the availability of an energy source, liquid water for biochemical reactions, and essential chemical building blocks like carbon, oxygen, nitrogen, and hydrogen. Life can thrive in stable environmental conditions within a specific range of pressure, temperature, light intensity, pH, and salinity​​.\n",
    "Challenging Traditional Concepts: Extremophiles challenge the traditional concept of habitable environments, indicating that life can exist in conditions previously thought to be uninhabitable. This expands our understanding of possible habitats for life, both on Earth and potentially in extraterrestrial settings.\n",
    "This comprehensive overview illustrates the remarkable adaptability of life and opens up new possibilities for understanding life's potential existence in extreme environments, both on Earth and beyond.\"\"\"\n",
    "student_year_level = \"Year 11\"\n",
    "subject = \"Biology\"\n",
    "question_difficulty = \"moderate\"\n",
    "question_examples_easy = [\"What is an extremophile? An extremophile is an organism that thrives in extreme environmental conditions that are typically detrimental to most life forms.\", \"Give one example of an extreme environment on Earth. One example is deep-sea hydrothermal vents.\", \"What is unique about Europa, one of Jupiter's moons? Europa has an ice-covered surface and is thought to have a sub-surface ocean of salty water.\"]\n",
    "question_examples_moderate = [\"How do extremophiles survive in high temperatures? Extremophiles in high temperatures have specialized proteins and enzymes that remain stable and functional at elevated temperatures.\", \"Why is the study of extremophiles important? Studying extremophiles helps understand the adaptability and limits of life, and it may provide insights into the possibility of life on other planets or moons.\", \"Why is Europa considered a likely place to find life beyond Earth? Europa is considered likely because of its ice shell, liquid ocean, and geologically active core, which provide conditions potentially suitable for life.\"]\n",
    "question_examples_hard = [\"Explain how extremophiles challenge the traditional concept of habitable environments. Extremophiles challenge the traditional concept by surviving in environments previously thought to be uninhabitable, expanding our understanding of where life can exist\", \"Discuss the potential implications of finding life in subglacial lakes in Antarctica for the search for extraterrestrial life. The discovery in subglacial lakes suggests that similar extreme, ice-covered environments in the solar system, such as on Europa, could also harbor life.\", \"How does the study of extremophiles contribute to our understanding of the potential for life on planets and moons outside the 'Goldilocks Zone'? The study of extremophiles indicates that life can exist in conditions not reliant on a star's warmth, suggesting that planets and moons outside the 'Goldilocks Zone' could also support life.\"]\n",
    "\n",
    "student_interests = [\"gaming\", \"politics\", \"philosophy\"]\n",
    "student_career_goals = [\"lawyer\", \"doctor\", \"engineer\"]"
   ]
  },
  {
   "cell_type": "markdown",
   "metadata": {},
   "source": [
    "# Functions"
   ]
  },
  {
   "cell_type": "code",
   "execution_count": 2,
   "metadata": {},
   "outputs": [
    {
     "ename": "NameError",
     "evalue": "name 'key_idea' is not defined",
     "output_type": "error",
     "traceback": [
      "\u001b[0;31m---------------------------------------------------------------------------\u001b[0m",
      "\u001b[0;31mNameError\u001b[0m                                 Traceback (most recent call last)",
      "\u001b[0;32m/tmp/ipykernel_89549/3489112007.py\u001b[0m in \u001b[0;36m<module>\u001b[0;34m\u001b[0m\n\u001b[0;32m----> 1\u001b[0;31m generated_question = generate_question(key_idea,\n\u001b[0m\u001b[1;32m      2\u001b[0m                             \u001b[0mkey_idea_description\u001b[0m\u001b[0;34m,\u001b[0m\u001b[0;34m\u001b[0m\u001b[0;34m\u001b[0m\u001b[0m\n\u001b[1;32m      3\u001b[0m                             \u001b[0mtheory\u001b[0m\u001b[0;34m,\u001b[0m\u001b[0;34m\u001b[0m\u001b[0;34m\u001b[0m\u001b[0m\n\u001b[1;32m      4\u001b[0m                             \u001b[0mstudent_year_level\u001b[0m\u001b[0;34m,\u001b[0m\u001b[0;34m\u001b[0m\u001b[0;34m\u001b[0m\u001b[0m\n\u001b[1;32m      5\u001b[0m                             \u001b[0msubject\u001b[0m\u001b[0;34m,\u001b[0m\u001b[0;34m\u001b[0m\u001b[0;34m\u001b[0m\u001b[0m\n",
      "\u001b[0;31mNameError\u001b[0m: name 'key_idea' is not defined"
     ]
    }
   ],
   "source": [
    "generated_question = generate_question(key_idea,\n",
    "                      key_idea_description,\n",
    "                      theory,\n",
    "                      student_year_level,\n",
    "                      subject,\n",
    "                      question_difficulty,\n",
    "                      question_examples = [],\n",
    "                      other_system_instructions = \"\",\n",
    "                      student_interests = [],\n",
    "                      student_career_goals = [])"
   ]
  },
  {
   "cell_type": "code",
   "execution_count": 80,
   "metadata": {},
   "outputs": [
    {
     "data": {
      "text/plain": [
       "'How do extremophiles challenge traditional concepts of habitable environments, and what implications does this have for the search for extraterrestrial life, especially on celestial bodies like Europa?'"
      ]
     },
     "execution_count": 80,
     "metadata": {},
     "output_type": "execute_result"
    }
   ],
   "source": [
    "generated_question.choices[0].message.content"
   ]
  },
  {
   "cell_type": "code",
   "execution_count": 2,
   "metadata": {},
   "outputs": [
    {
     "ename": "NameError",
     "evalue": "name 'generated_question' is not defined",
     "output_type": "error",
     "traceback": [
      "\u001b[0;31m---------------------------------------------------------------------------\u001b[0m",
      "\u001b[0;31mNameError\u001b[0m                                 Traceback (most recent call last)",
      "\u001b[0;32m/tmp/ipykernel_66279/1840500451.py\u001b[0m in \u001b[0;36m<module>\u001b[0;34m\u001b[0m\n\u001b[0;32m----> 1\u001b[0;31m \u001b[0mtype\u001b[0m\u001b[0;34m(\u001b[0m\u001b[0mgenerated_question\u001b[0m\u001b[0;34m)\u001b[0m\u001b[0;34m\u001b[0m\u001b[0;34m\u001b[0m\u001b[0m\n\u001b[0m",
      "\u001b[0;31mNameError\u001b[0m: name 'generated_question' is not defined"
     ]
    }
   ],
   "source": [
    "type(generated_question)\n"
   ]
  }
 ],
 "metadata": {
  "kernelspec": {
   "display_name": "base",
   "language": "python",
   "name": "python3"
  },
  "language_info": {
   "codemirror_mode": {
    "name": "ipython",
    "version": 3
   },
   "file_extension": ".py",
   "mimetype": "text/x-python",
   "name": "python",
   "nbconvert_exporter": "python",
   "pygments_lexer": "ipython3",
   "version": "3.10.12"
  }
 },
 "nbformat": 4,
 "nbformat_minor": 2
}
