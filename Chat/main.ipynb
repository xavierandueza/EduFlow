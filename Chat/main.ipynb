{
 "cells": [
  {
   "cell_type": "code",
   "execution_count": 1,
   "metadata": {},
   "outputs": [
    {
     "data": {
      "text/plain": [
       "True"
      ]
     },
     "execution_count": 1,
     "metadata": {},
     "output_type": "execute_result"
    }
   ],
   "source": [
    "#Imports\n",
    "# import json\n",
    "# import os\n",
    "\n",
    "# import requests\n",
    "# from tenacity import retry, wait_random_exponential, stop_after_attempt\n",
    "# from termcolor import colored\n",
    "\n",
    "import streamlit as st\n",
    "import inspect\n",
    "from langchain.chat_models import ChatOpenAI\n",
    "from langchain.chains import ConversationChain, ConversationalRetrievalChain, LLMChain\n",
    "from langchain.memory import ConversationBufferMemory, ConversationSummaryMemory, ConversationKGMemory\n",
    "from langchain.schema import StrOutputParser, SystemMessage\n",
    "from langchain.prompts.chat import (\n",
    "    ChatPromptTemplate,\n",
    "    SystemMessagePromptTemplate,\n",
    "    AIMessagePromptTemplate,\n",
    "    HumanMessagePromptTemplate,\n",
    "    MessagesPlaceholder,\n",
    "    PromptTemplate\n",
    ")\n",
    "from mockdata import data\n",
    "\n",
    "from operator import itemgetter\n",
    "from ftstringprompts import *\n",
    "# from EduFlowSinglePrompts import *\n",
    "\n",
    "from dotenv import load_dotenv\n",
    "\n",
    "load_dotenv(\"../.venv/.env\")\n",
    "\n",
    "\n"
   ]
  },
  {
   "cell_type": "markdown",
   "metadata": {},
   "source": [
    "#### Test code"
   ]
  },
  {
   "cell_type": "code",
   "execution_count": 2,
   "metadata": {},
   "outputs": [],
   "source": [
    "def quickchatprompt(system, human, data, **kwargs):\n",
    "    #Generate question prompt, ai_answer prompt and human_answer prompt\n",
    "    system_prompt = SystemMessagePromptTemplate.from_template(system).format(**data)\n",
    "    human_prompt = HumanMessagePromptTemplate.template(human)\n",
    "    return ChatPromptTemplate.from_messages([system_prompt,human_prompt])"
   ]
  },
  {
   "cell_type": "code",
   "execution_count": 3,
   "metadata": {},
   "outputs": [
    {
     "ename": "AttributeError",
     "evalue": "type object 'HumanMessagePromptTemplate' has no attribute 'template'",
     "output_type": "error",
     "traceback": [
      "\u001b[0;31m---------------------------------------------------------------------------\u001b[0m",
      "\u001b[0;31mAttributeError\u001b[0m                            Traceback (most recent call last)",
      "\u001b[1;32m/home/andrew/Desktop/Everdawn/Eduflow AI/EduFlow/Chat/main.ipynb Cell 4\u001b[0m line \u001b[0;36m8\n\u001b[1;32m      <a href='vscode-notebook-cell:/home/andrew/Desktop/Everdawn/Eduflow%20AI/EduFlow/Chat/main.ipynb#Y132sZmlsZQ%3D%3D?line=4'>5</a>\u001b[0m llm \u001b[39m=\u001b[39m ChatOpenAI(temperature\u001b[39m=\u001b[39m\u001b[39m0.9\u001b[39m,model\u001b[39m=\u001b[39mmodel)\n\u001b[1;32m      <a href='vscode-notebook-cell:/home/andrew/Desktop/Everdawn/Eduflow%20AI/EduFlow/Chat/main.ipynb#Y132sZmlsZQ%3D%3D?line=6'>7</a>\u001b[0m \u001b[39m#Generate question prompt, ai_answer prompt and human_answer prompt\u001b[39;00m\n\u001b[0;32m----> <a href='vscode-notebook-cell:/home/andrew/Desktop/Everdawn/Eduflow%20AI/EduFlow/Chat/main.ipynb#Y132sZmlsZQ%3D%3D?line=7'>8</a>\u001b[0m generate_question_system_prompt \u001b[39m=\u001b[39m quickchatprompt(generate_question_system_template, generate_question_human_template, data)\n\u001b[1;32m      <a href='vscode-notebook-cell:/home/andrew/Desktop/Everdawn/Eduflow%20AI/EduFlow/Chat/main.ipynb#Y132sZmlsZQ%3D%3D?line=8'>9</a>\u001b[0m answer_question_prompt \u001b[39m=\u001b[39m quickchatprompt(answer_question_system_template, answer_question_human_template, data)\n\u001b[1;32m     <a href='vscode-notebook-cell:/home/andrew/Desktop/Everdawn/Eduflow%20AI/EduFlow/Chat/main.ipynb#Y132sZmlsZQ%3D%3D?line=11'>12</a>\u001b[0m chain1 \u001b[39m=\u001b[39m generate_question_system_prompt \u001b[39m|\u001b[39m llm \u001b[39m|\u001b[39m StrOutputParser()\n",
      "\u001b[1;32m/home/andrew/Desktop/Everdawn/Eduflow AI/EduFlow/Chat/main.ipynb Cell 4\u001b[0m line \u001b[0;36m4\n\u001b[1;32m      <a href='vscode-notebook-cell:/home/andrew/Desktop/Everdawn/Eduflow%20AI/EduFlow/Chat/main.ipynb#Y132sZmlsZQ%3D%3D?line=0'>1</a>\u001b[0m \u001b[39mdef\u001b[39;00m \u001b[39mquickchatprompt\u001b[39m(system, human, data, \u001b[39m*\u001b[39m\u001b[39m*\u001b[39mkwargs):\n\u001b[1;32m      <a href='vscode-notebook-cell:/home/andrew/Desktop/Everdawn/Eduflow%20AI/EduFlow/Chat/main.ipynb#Y132sZmlsZQ%3D%3D?line=1'>2</a>\u001b[0m     \u001b[39m#Generate question prompt, ai_answer prompt and human_answer prompt\u001b[39;00m\n\u001b[1;32m      <a href='vscode-notebook-cell:/home/andrew/Desktop/Everdawn/Eduflow%20AI/EduFlow/Chat/main.ipynb#Y132sZmlsZQ%3D%3D?line=2'>3</a>\u001b[0m     system_prompt \u001b[39m=\u001b[39m SystemMessagePromptTemplate\u001b[39m.\u001b[39mfrom_template(system)\u001b[39m.\u001b[39mformat(\u001b[39m*\u001b[39m\u001b[39m*\u001b[39mdata)\n\u001b[0;32m----> <a href='vscode-notebook-cell:/home/andrew/Desktop/Everdawn/Eduflow%20AI/EduFlow/Chat/main.ipynb#Y132sZmlsZQ%3D%3D?line=3'>4</a>\u001b[0m     human_prompt \u001b[39m=\u001b[39m HumanMessagePromptTemplate\u001b[39m.\u001b[39;49mtemplate(human)\n\u001b[1;32m      <a href='vscode-notebook-cell:/home/andrew/Desktop/Everdawn/Eduflow%20AI/EduFlow/Chat/main.ipynb#Y132sZmlsZQ%3D%3D?line=4'>5</a>\u001b[0m     \u001b[39mreturn\u001b[39;00m ChatPromptTemplate\u001b[39m.\u001b[39mfrom_messages([system_prompt,human_prompt])\n",
      "\u001b[0;31mAttributeError\u001b[0m: type object 'HumanMessagePromptTemplate' has no attribute 'template'"
     ]
    }
   ],
   "source": [
    "#Begin with first chain which describes the self analysis of the model\n",
    "model = \"gpt-3.5-turbo-1106\"\n",
    "\n",
    "#Define model\n",
    "llm = ChatOpenAI(temperature=0.9,model=model)\n",
    "\n",
    "#Generate question prompt, ai_answer prompt and human_answer prompt\n",
    "generate_question_system_prompt = quickchatprompt(generate_question_system_template, generate_question_human_template, data)\n",
    "answer_question_prompt = quickchatprompt(answer_question_system_template, answer_question_human_template, data)\n",
    "\n",
    "\n",
    "chain1 = generate_question_system_prompt | llm | StrOutputParser()"
   ]
  },
  {
   "cell_type": "code",
   "execution_count": null,
   "metadata": {},
   "outputs": [],
   "source": []
  },
  {
   "cell_type": "code",
   "execution_count": null,
   "metadata": {},
   "outputs": [
    {
     "ename": "NameError",
     "evalue": "name 'temp' is not defined",
     "output_type": "error",
     "traceback": [
      "\u001b[0;31m---------------------------------------------------------------------------\u001b[0m",
      "\u001b[0;31mNameError\u001b[0m                                 Traceback (most recent call last)",
      "\u001b[1;32m/home/andrew/Desktop/Everdawn/Eduflow AI/EduFlow/Chat/main.ipynb Cell 10\u001b[0m line \u001b[0;36m2\n\u001b[1;32m      <a href='vscode-notebook-cell:/home/andrew/Desktop/Everdawn/Eduflow%20AI/EduFlow/Chat/main.ipynb#Y112sZmlsZQ%3D%3D?line=0'>1</a>\u001b[0m \u001b[39m#Sequence 1\u001b[39;00m\n\u001b[0;32m----> <a href='vscode-notebook-cell:/home/andrew/Desktop/Everdawn/Eduflow%20AI/EduFlow/Chat/main.ipynb#Y112sZmlsZQ%3D%3D?line=1'>2</a>\u001b[0m model \u001b[39m=\u001b[39m ChatOpenAI(temperature \u001b[39m=\u001b[39m temp, model_name\u001b[39m=\u001b[39m model)\n\u001b[1;32m      <a href='vscode-notebook-cell:/home/andrew/Desktop/Everdawn/Eduflow%20AI/EduFlow/Chat/main.ipynb#Y112sZmlsZQ%3D%3D?line=3'>4</a>\u001b[0m \u001b[39m#prompt templates\u001b[39;00m\n\u001b[1;32m      <a href='vscode-notebook-cell:/home/andrew/Desktop/Everdawn/Eduflow%20AI/EduFlow/Chat/main.ipynb#Y112sZmlsZQ%3D%3D?line=4'>5</a>\u001b[0m generate_question_prompt_messages \u001b[39m=\u001b[39m generate_question()\n",
      "\u001b[0;31mNameError\u001b[0m: name 'temp' is not defined"
     ]
    }
   ],
   "source": [
    "#Sequence 1\n",
    "model = ChatOpenAI(temperature = temp, model_name= model)\n",
    "\n",
    "#prompt templates\n",
    "generate_question_prompt_messages = generate_question()\n",
    "answer_prompt_messages = answer_question()\n",
    "hallucination_check_prompt_messages = check_generated_answer_hallucination()\n",
    "\n",
    "#message objects\n",
    "final_generate_prompt_question = ChatPromptTemplate.from_messages(generate_question_prompt_messages)\n",
    "final_answer_prompt = ChatPromptTemplate.from_messages(answer_prompt_messages)\n",
    "hallucination_check_prompt_messages = ChatPromptTemplate.from_messages(hallucination_check_prompt_messages)\n",
    "\n",
    "question_stage = final_generate_prompt_question | model\n"
   ]
  }
 ],
 "metadata": {
  "kernelspec": {
   "display_name": "base",
   "language": "python",
   "name": "python3"
  },
  "language_info": {
   "codemirror_mode": {
    "name": "ipython",
    "version": 3
   },
   "file_extension": ".py",
   "mimetype": "text/x-python",
   "name": "python",
   "nbconvert_exporter": "python",
   "pygments_lexer": "ipython3",
   "version": "3.10.12"
  }
 },
 "nbformat": 4,
 "nbformat_minor": 2
}
