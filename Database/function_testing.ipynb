{
 "cells": [
  {
   "cell_type": "code",
   "execution_count": 1,
   "metadata": {},
   "outputs": [],
   "source": [
    "from database_utils import *"
   ]
  },
  {
   "cell_type": "code",
   "execution_count": 2,
   "metadata": {},
   "outputs": [
    {
     "name": "stdout",
     "output_type": "stream",
     "text": [
      "4.0.11-fedbfc208e4e\n"
     ]
    }
   ],
   "source": [
    "# connect to the db\n",
    "session = connect_to_db()"
   ]
  },
  {
   "cell_type": "code",
   "execution_count": 3,
   "metadata": {},
   "outputs": [
    {
     "name": "stdout",
     "output_type": "stream",
     "text": [
      "Students table successfully dropped\n",
      "Students table successfully created\n",
      "Subjects table successfully dropped\n",
      "Skills table successfully dropped\n",
      "Skills table successfully created\n",
      "student_skills table successfully dropped\n",
      "Student_skills table successfully created\n"
     ]
    }
   ],
   "source": [
    "create_tables(session)"
   ]
  },
  {
   "cell_type": "code",
   "execution_count": 4,
   "metadata": {},
   "outputs": [
    {
     "ename": "InvalidRequest",
     "evalue": "Error from server: code=2200 [Invalid query] message=\"table subjects does not exist\"",
     "output_type": "error",
     "traceback": [
      "\u001b[1;31m---------------------------------------------------------------------------\u001b[0m",
      "\u001b[1;31mInvalidRequest\u001b[0m                            Traceback (most recent call last)",
      "\u001b[1;32mc:\\Users\\Xavier\\Documents\\GitHub\\EduFlow\\Database\\function_testing.ipynb Cell 4\u001b[0m line \u001b[0;36m1\n\u001b[1;32m----> <a href='vscode-notebook-cell:/c%3A/Users/Xavier/Documents/GitHub/EduFlow/Database/function_testing.ipynb#W3sZmlsZQ%3D%3D?line=0'>1</a>\u001b[0m insert_dummy_data(session)\n",
      "File \u001b[1;32mc:\\Users\\Xavier\\Documents\\GitHub\\EduFlow\\Database\\database_utils.py:188\u001b[0m, in \u001b[0;36minsert_dummy_data\u001b[1;34m(session)\u001b[0m\n\u001b[0;32m    182\u001b[0m \u001b[39m# Insert dummy math class\u001b[39;00m\n\u001b[0;32m    183\u001b[0m cql_command \u001b[39m=\u001b[39m \u001b[39m\"\"\"\u001b[39m\n\u001b[0;32m    184\u001b[0m \u001b[39mINSERT INTO subjects (subject_code, subject_name)\u001b[39m\n\u001b[0;32m    185\u001b[0m \u001b[39m    VALUES (\u001b[39m\u001b[39m'\u001b[39m\u001b[39mMAT1000\u001b[39m\u001b[39m'\u001b[39m\u001b[39m, \u001b[39m\u001b[39m'\u001b[39m\u001b[39mIntro to Maths\u001b[39m\u001b[39m'\u001b[39m\u001b[39m);\u001b[39m\n\u001b[0;32m    186\u001b[0m \u001b[39m\u001b[39m\u001b[39m\"\"\"\u001b[39m\n\u001b[1;32m--> 188\u001b[0m session\u001b[39m.\u001b[39;49mexecute(cql_command)\n\u001b[0;32m    190\u001b[0m cql_command \u001b[39m=\u001b[39m \u001b[39m\"\"\"\u001b[39m\n\u001b[0;32m    191\u001b[0m \u001b[39mINSERT INTO skills (skill_title, subject_code, theory, dependencies, decay_value)\u001b[39m\n\u001b[0;32m    192\u001b[0m \u001b[39m    VALUES (\u001b[39m\u001b[39m'\u001b[39m\u001b[39mBasic Arithmetic\u001b[39m\u001b[39m'\u001b[39m\u001b[39m, \u001b[39m\u001b[39m'\u001b[39m\u001b[39mMAT1000\u001b[39m\u001b[39m'\u001b[39m\u001b[39m, \u001b[39m\u001b[39m'\u001b[39m\u001b[39m1 + 1 = 2\u001b[39m\u001b[39m'\u001b[39m\u001b[39m, [], 0.5);\u001b[39m\n\u001b[0;32m    193\u001b[0m \u001b[39m\u001b[39m\u001b[39m\"\"\"\u001b[39m\n\u001b[0;32m    194\u001b[0m session\u001b[39m.\u001b[39mexecute(cql_command)\n",
      "File \u001b[1;32mc:\\Users\\Xavier\\miniconda3\\envs\\eduflow\\lib\\site-packages\\cassandra\\cluster.py:2618\u001b[0m, in \u001b[0;36mSession.execute\u001b[1;34m(self, query, parameters, timeout, trace, custom_payload, execution_profile, paging_state, host, execute_as)\u001b[0m\n\u001b[0;32m   2575\u001b[0m \u001b[39mdef\u001b[39;00m \u001b[39mexecute\u001b[39m(\u001b[39mself\u001b[39m, query, parameters\u001b[39m=\u001b[39m\u001b[39mNone\u001b[39;00m, timeout\u001b[39m=\u001b[39m_NOT_SET, trace\u001b[39m=\u001b[39m\u001b[39mFalse\u001b[39;00m,\n\u001b[0;32m   2576\u001b[0m             custom_payload\u001b[39m=\u001b[39m\u001b[39mNone\u001b[39;00m, execution_profile\u001b[39m=\u001b[39mEXEC_PROFILE_DEFAULT,\n\u001b[0;32m   2577\u001b[0m             paging_state\u001b[39m=\u001b[39m\u001b[39mNone\u001b[39;00m, host\u001b[39m=\u001b[39m\u001b[39mNone\u001b[39;00m, execute_as\u001b[39m=\u001b[39m\u001b[39mNone\u001b[39;00m):\n\u001b[0;32m   2578\u001b[0m \u001b[39m    \u001b[39m\u001b[39m\"\"\"\u001b[39;00m\n\u001b[0;32m   2579\u001b[0m \u001b[39m    Execute the given query and synchronously wait for the response.\u001b[39;00m\n\u001b[0;32m   2580\u001b[0m \n\u001b[1;32m   (...)\u001b[0m\n\u001b[0;32m   2615\u001b[0m \u001b[39m    on a DSE cluster.\u001b[39;00m\n\u001b[0;32m   2616\u001b[0m \u001b[39m    \"\"\"\u001b[39;00m\n\u001b[1;32m-> 2618\u001b[0m     \u001b[39mreturn\u001b[39;00m \u001b[39mself\u001b[39;49m\u001b[39m.\u001b[39;49mexecute_async(query, parameters, trace, custom_payload, timeout, execution_profile, paging_state, host, execute_as)\u001b[39m.\u001b[39;49mresult()\n",
      "File \u001b[1;32mc:\\Users\\Xavier\\miniconda3\\envs\\eduflow\\lib\\site-packages\\cassandra\\cluster.py:4894\u001b[0m, in \u001b[0;36mResponseFuture.result\u001b[1;34m(self)\u001b[0m\n\u001b[0;32m   4892\u001b[0m     \u001b[39mreturn\u001b[39;00m ResultSet(\u001b[39mself\u001b[39m, \u001b[39mself\u001b[39m\u001b[39m.\u001b[39m_final_result)\n\u001b[0;32m   4893\u001b[0m \u001b[39melse\u001b[39;00m:\n\u001b[1;32m-> 4894\u001b[0m     \u001b[39mraise\u001b[39;00m \u001b[39mself\u001b[39m\u001b[39m.\u001b[39m_final_exception\n",
      "\u001b[1;31mInvalidRequest\u001b[0m: Error from server: code=2200 [Invalid query] message=\"table subjects does not exist\""
     ]
    }
   ],
   "source": [
    "insert_dummy_data(session)"
   ]
  }
 ],
 "metadata": {
  "kernelspec": {
   "display_name": "eduflow",
   "language": "python",
   "name": "python3"
  },
  "language_info": {
   "codemirror_mode": {
    "name": "ipython",
    "version": 3
   },
   "file_extension": ".py",
   "mimetype": "text/x-python",
   "name": "python",
   "nbconvert_exporter": "python",
   "pygments_lexer": "ipython3",
   "version": "3.8.18"
  }
 },
 "nbformat": 4,
 "nbformat_minor": 2
}
